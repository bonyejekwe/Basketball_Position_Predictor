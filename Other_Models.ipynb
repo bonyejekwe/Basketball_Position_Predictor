{
 "cells": [
  {
   "cell_type": "markdown",
   "id": "68fdb6ac",
   "metadata": {},
   "source": [
    "## NBA Position Predictor Project\n",
    "\n",
    "### Created 16 November 2021"
   ]
  },
  {
   "cell_type": "markdown",
   "id": "1f050afd",
   "metadata": {},
   "source": [
    "## Creating a Model"
   ]
  },
  {
   "cell_type": "code",
   "execution_count": 1,
   "id": "24991223",
   "metadata": {},
   "outputs": [],
   "source": [
    "import pandas as pd\n",
    "import matplotlib.pyplot as plt\n",
    "import seaborn as sns\n",
    "from sklearn.preprocessing import StandardScaler\n",
    "from sklearn.metrics import accuracy_score, classification_report\n",
    "from sklearn.model_selection import train_test_split\n",
    "from sklearn.neighbors import KNeighborsClassifier\n",
    "from get_stats import *"
   ]
  },
  {
   "cell_type": "code",
   "execution_count": null,
   "id": "b141c127",
   "metadata": {},
   "outputs": [],
   "source": [
    "data = get_full_dataframe()"
   ]
  },
  {
   "cell_type": "code",
   "execution_count": null,
   "id": "c48d3734",
   "metadata": {},
   "outputs": [],
   "source": [
    "stats_df = data\n",
    "[(i, list(set(stats_df[stats_df['Year'] == i]['POS']))) for i in range(2017, 2022)]  # test"
   ]
  },
  {
   "cell_type": "code",
   "execution_count": null,
   "id": "09628c4d",
   "metadata": {},
   "outputs": [],
   "source": [
    "stats_df = stats_df[stats_df['Year'] != 2017].copy()\n",
    "stats_df"
   ]
  },
  {
   "cell_type": "code",
   "execution_count": null,
   "id": "63429107",
   "metadata": {},
   "outputs": [],
   "source": [
    "# replace positions to get two different player classifications:\n",
    "pos_encode = {\"G\":0 , \"F\":1, \"C\":2, \"GF\":3, \"FC\":4}\n",
    "## pos_encode = {\"PG\":0 , \"SF\":1, \"C\":2, \"SG\":3, \"PF\":4, \"G\":5 , \"F\":6}\n",
    "pos_decode = {0:\"G\", 1:\"F\", 2:\"C\", 3:\"GF\", 4:\"FC\"}\n",
    "## pos_decode = {0:\"PG\", 1:\"SF\", 2:\"C\", 3:\"SG\", 4:\"PF\"}\n",
    "\n",
    "# - POS3 = {\"G\", \"F\", \"C\"}  # - POS5 = {\"G\", \"GF\", \"F\", \"FC\", \"C\"}\n",
    "stats_df.loc[:, \"POS3\"] = stats_df[\"POS\"].replace(\"G-F\", \"G\").replace(\"F-G\", \"F\").replace(\"C-F\", \"C\").replace(\"F-C\", \"F\")\n",
    "## stats_df.loc[:, \"POS3\"] = stats_df[\"POS3\"].replace(\"PG\", \"G\").replace(\"SG\", \"G\").replace(\"SF\", \"F\").replace(\"PF\", \"F\")\n",
    "stats_df.loc[:, \"POS5\"] = stats_df[\"POS\"].replace(\"G-F\", \"GF\").replace(\"F-G\", \"GF\").replace(\"C-F\", \"FC\").replace(\"F-C\", \"FC\")\n",
    "## stats_df.loc[:, \"POS5\"] = stats_df[\"POS\"].replace(\"G-F\", \"SG\").replace(\"F-G\", \"SG\").replace(\"C-F\", \"PF\").replace(\"F-C\", \"PF\")\n",
    "## stats_df.loc[:, \"POS5\"] = stats_df[\"POS5\"].replace(\"G\", \"PG\").replace(\"F\", \"SF\")\n",
    "stats_df"
   ]
  },
  {
   "cell_type": "code",
   "execution_count": null,
   "id": "9d5cec61",
   "metadata": {},
   "outputs": [],
   "source": [
    "print(stats_df.groupby('POS3')['POS3'].count())\n",
    "print(stats_df.groupby('POS5')['POS5'].count())"
   ]
  },
  {
   "cell_type": "code",
   "execution_count": null,
   "id": "cd8f05d5",
   "metadata": {},
   "outputs": [],
   "source": [
    "stats_df.describe()"
   ]
  },
  {
   "cell_type": "code",
   "execution_count": null,
   "id": "12a3622f",
   "metadata": {},
   "outputs": [],
   "source": [
    "stats_df.info()"
   ]
  },
  {
   "cell_type": "markdown",
   "id": "4b897745",
   "metadata": {},
   "source": [
    "### Support Vector Machine"
   ]
  },
  {
   "cell_type": "code",
   "execution_count": null,
   "id": "22988c47",
   "metadata": {},
   "outputs": [],
   "source": [
    "from sklearn.svm import SVC\n",
    "from sklearn.metrics import classification_report"
   ]
  },
  {
   "cell_type": "code",
   "execution_count": null,
   "id": "e9b39c43",
   "metadata": {},
   "outputs": [],
   "source": [
    "#divide the data into the input 'X' and the labels 'y'\n",
    "#selected_features = ['MIN%', 'USG%', 'TO%', 'FTA', 'FT%', '2PA', '2P%', '3PA', '3P%', 'eFG%', 'TS%', 'PPG',\n",
    "#                     'RPG', 'TRB%','APG', 'AST%', 'SPG', 'BPG', 'TOPG', 'VI', 'ORTG', 'DRTG']\n",
    "selected_features = [i for i in list(stats_df)[4:-3]]  # if i not in ['MPG', 'PPG']]\n",
    "X        = stats_df[selected_features] #the observations\n",
    "y        = stats_df['POS3'] #the label"
   ]
  },
  {
   "cell_type": "code",
   "execution_count": null,
   "id": "3d1bd7d4",
   "metadata": {},
   "outputs": [],
   "source": [
    "def SupportVector(X, y, target_names):\n",
    "    # split the data into training and test sets\n",
    "    X_train, X_test, y_train, y_test = train_test_split(X,y,test_size=0.3, random_state=6, stratify = y)\n",
    "    # Enter appropriate values to partition data, and ensure results are reproducible and obtain stratified samples\n",
    "\n",
    "\n",
    "    # feature scaling\n",
    "    sc = StandardScaler()\n",
    "    sc.fit(X_train)\n",
    "    X_train_std, X_test_std = sc.transform(X_train), sc.transform(X_test)    \n",
    "    \n",
    "    # initialize the classifier\n",
    "    svm = SVC() #the default kernel is rbf\n",
    "    svm.fit(X_train_std, y_train) #fit the data\n",
    "    \n",
    "    # predict the labels for the test set\n",
    "    y_pred   = svm.predict(X_test_std)\n",
    "    # print('The prediction is: {}'.format(y_pred))\n",
    "    \n",
    "    #evaluate the prediction accuracy\n",
    "    print('The accuracy of the model is: {}'.format(svm.score(X_test_std, y_test)))\n",
    "\n",
    "    #get the classification report\n",
    "    print(classification_report(y_test, y_pred, target_names = target_names))"
   ]
  },
  {
   "cell_type": "code",
   "execution_count": null,
   "id": "939b86ae",
   "metadata": {},
   "outputs": [],
   "source": [
    "SupportVector(X, stats_df['POS3'], target_names = ['C', 'F', 'G'])\n",
    "# SupportVector(X, stats_df['POS5'], target_names = ['C', 'F', 'FC', \"G\", \"GF\"])"
   ]
  },
  {
   "cell_type": "markdown",
   "id": "dc0dfd4c",
   "metadata": {},
   "source": [
    "### Random Forest"
   ]
  },
  {
   "cell_type": "code",
   "execution_count": null,
   "id": "2a979584",
   "metadata": {},
   "outputs": [],
   "source": [
    "from sklearn.ensemble import RandomForestRegressor\n",
    "from sklearn.metrics import mean_squared_error"
   ]
  },
  {
   "cell_type": "code",
   "execution_count": null,
   "id": "685a5d2c",
   "metadata": {},
   "outputs": [],
   "source": [
    "stats_df.loc[:, \"POS3\"] = stats_df[\"POS3\"].apply(lambda x: pos_encode[x])\n",
    "stats_df.loc[:, \"POS5\"] = stats_df[\"POS5\"].apply(lambda x: pos_encode[x])"
   ]
  },
  {
   "cell_type": "code",
   "execution_count": null,
   "id": "41896da0",
   "metadata": {},
   "outputs": [],
   "source": [
    "#divide the data into the input 'X' and the labels 'y'\n",
    "#selected_features = ['MIN%', 'USG%', 'TO%', 'FTA', 'FT%', '2PA', '2P%', '3PA', '3P%', 'eFG%', 'TS%', 'PPG',\n",
    "#                     'RPG', 'TRB%','APG', 'AST%', 'SPG', 'BPG', 'TOPG', 'VI', 'ORTG', 'DRTG']\n",
    "selected_features = [i for i in list(stats_df)[4:-3]]  # if i not in ['MPG', 'PPG']]\n",
    "X        = stats_df[selected_features] #the observations\n",
    "y        = stats_df['POS3'] #the label"
   ]
  },
  {
   "cell_type": "code",
   "execution_count": null,
   "id": "84403be7",
   "metadata": {},
   "outputs": [],
   "source": [
    "# split the data into training and test sets\n",
    "X_train, X_test, y_train, y_test = train_test_split(X,y,test_size=0.3, random_state=6, stratify = y)\n",
    "# Enter appropriate values to partition data, and ensure results are reproducible and obtain stratified samples\n",
    "\n",
    "\n",
    "# feature scaling\n",
    "sc = StandardScaler()\n",
    "sc.fit(X_train)\n",
    "X_train_std, X_test_std = sc.transform(X_train), sc.transform(X_test)    \n"
   ]
  },
  {
   "cell_type": "code",
   "execution_count": null,
   "id": "f08ead74",
   "metadata": {},
   "outputs": [],
   "source": [
    "rf = RandomForestRegressor(n_estimators=10, random_state=7)\n",
    "rf.fit(X_train, y_train)"
   ]
  },
  {
   "cell_type": "code",
   "execution_count": null,
   "id": "64676739",
   "metadata": {},
   "outputs": [],
   "source": [
    "#predict the labels for the test set\n",
    "y_pred   = rf.predict(X_test)\n",
    "# print('The prediction is: {}'.format(y_pred))\n",
    "\n",
    "# Evaluate the Predictions\n",
    "mse = mean_squared_error(y_test, y_pred)\n",
    "print('The mse of the model is: {}'.format(mse))"
   ]
  },
  {
   "cell_type": "code",
   "execution_count": null,
   "id": "46947865",
   "metadata": {},
   "outputs": [],
   "source": [
    "n = max(rf.feature_importances_)\n",
    "param = selected_features[list(rf.feature_importances_).index(n)]\n",
    "print(f\"The most important parameter was '{param}'.\")"
   ]
  },
  {
   "cell_type": "code",
   "execution_count": null,
   "id": "ea212784",
   "metadata": {},
   "outputs": [],
   "source": [
    "# sorted([(n, selected_features[list(rf.feature_importances_).index(n)]) for n in rf.feature_importances_], key = lambda x: x[0])"
   ]
  }
 ],
 "metadata": {
  "kernelspec": {
   "display_name": "Python 3 (ipykernel)",
   "language": "python",
   "name": "python3"
  },
  "language_info": {
   "codemirror_mode": {
    "name": "ipython",
    "version": 3
   },
   "file_extension": ".py",
   "mimetype": "text/x-python",
   "name": "python",
   "nbconvert_exporter": "python",
   "pygments_lexer": "ipython3",
   "version": "3.8.3"
  }
 },
 "nbformat": 4,
 "nbformat_minor": 5
}
